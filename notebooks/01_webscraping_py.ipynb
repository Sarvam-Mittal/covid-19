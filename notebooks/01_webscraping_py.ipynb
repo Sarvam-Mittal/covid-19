{
 "cells": [
  {
   "cell_type": "markdown",
   "metadata": {},
   "source": [
    "#### Web scarpping code"
   ]
  },
  {
   "cell_type": "code",
   "execution_count": null,
   "metadata": {},
   "outputs": [],
   "source": [
    "\n",
    "import csv\n",
    "import requests\n",
    "from bs4 import BeautifulSoup\n",
    "import pandas as pd\n",
    "\n",
    "url = \"https://www.worldometers.info/world-population/population-by-country/\"\n",
    "r = requests.get(url)\n",
    "\n",
    "soup = BeautifulSoup(r.content)\n",
    "\n",
    "countries = soup.find_all('table')[0]\n",
    "df=pd.read_html(str(countries))[0]\n",
    "\n",
    "def function(a,b,c,d,e,f,g,h,i,j,k):\n",
    "    data = pd.DataFrame(\n",
    "    { 'a':df[a],\n",
    "      'b':df[b],\n",
    "      'c':df[c],\n",
    "      'd':df[d],\n",
    "      'e':df[e],\n",
    "      'f':df[f],\n",
    "      'g':df[g],\n",
    "      'h':df[h],\n",
    "      'i':df[i],\n",
    "      'j':df[j],\n",
    "      'k':df[k]})\n",
    "    return data\n",
    "\n",
    "df = function('Country (or dependency)','Population (2020)','Yearly Change','Net Change','Density (P/Km²)',\n",
    "              'Land Area (Km²)','Migrants (net)','Fert. Rate','Med. Age','Urban Pop %','World Share')\n",
    "\n",
    "df.columns =['Country (or dependency)','Population (2020)','Yearly Change','Net Change','Density (P/Km²)',\n",
    "              'Land Area (Km²)','Migrants (net)','Fert. Rate','Med. Age','Urban Pop %','World Share']\n",
    "\n",
    "export_csv = df.to_csv(r'/home/sarvammittal/projects/covid-19_analysis/data/raw/pop.csv',index=None,header=True)\n"
   ]
  }
 ],
 "metadata": {
  "kernelspec": {
   "display_name": "Python 3",
   "language": "python",
   "name": "python3"
  },
  "language_info": {
   "codemirror_mode": {
    "name": "ipython",
    "version": 3
   },
   "file_extension": ".py",
   "mimetype": "text/x-python",
   "name": "python",
   "nbconvert_exporter": "python",
   "pygments_lexer": "ipython3",
   "version": "3.7.3"
  }
 },
 "nbformat": 4,
 "nbformat_minor": 2
}
